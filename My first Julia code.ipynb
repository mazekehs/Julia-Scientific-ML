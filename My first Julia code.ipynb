{
 "cells": [
  {
   "cell_type": "code",
   "execution_count": 1,
   "id": "8f5cff6e",
   "metadata": {},
   "outputs": [
    {
     "name": "stdout",
     "output_type": "stream",
     "text": [
      "Welcome to Julia. This is my first line of code\n"
     ]
    }
   ],
   "source": [
    "println(\"Welcome to Julia. This is my first line of code\")"
   ]
  },
  {
   "cell_type": "code",
   "execution_count": 2,
   "id": "b0a162e2",
   "metadata": {},
   "outputs": [
    {
     "data": {
      "text/plain": [
       "Int64"
      ]
     },
     "execution_count": 2,
     "metadata": {},
     "output_type": "execute_result"
    }
   ],
   "source": [
    "x=2\n",
    "typeof(x)"
   ]
  },
  {
   "cell_type": "code",
   "execution_count": 3,
   "id": "ea756225",
   "metadata": {},
   "outputs": [
    {
     "data": {
      "text/plain": [
       "Float64"
      ]
     },
     "execution_count": 3,
     "metadata": {},
     "output_type": "execute_result"
    }
   ],
   "source": [
    "y=2.5\n",
    "typeof(y)"
   ]
  },
  {
   "cell_type": "code",
   "execution_count": 4,
   "id": "66a52061",
   "metadata": {},
   "outputs": [
    {
     "data": {
      "text/plain": [
       "Char"
      ]
     },
     "execution_count": 4,
     "metadata": {},
     "output_type": "execute_result"
    }
   ],
   "source": [
    "z='c'\n",
    "typeof(z)"
   ]
  },
  {
   "cell_type": "code",
   "execution_count": 5,
   "id": "a26508c5",
   "metadata": {},
   "outputs": [
    {
     "data": {
      "text/plain": [
       "String"
      ]
     },
     "execution_count": 5,
     "metadata": {},
     "output_type": "execute_result"
    }
   ],
   "source": [
    "str=\"this is my room\"\n",
    "typeof(str)"
   ]
  },
  {
   "cell_type": "code",
   "execution_count": 7,
   "id": "a676c0b2",
   "metadata": {},
   "outputs": [
    {
     "data": {
      "text/plain": [
       "String"
      ]
     },
     "execution_count": 7,
     "metadata": {},
     "output_type": "execute_result"
    }
   ],
   "source": [
    "str2=\"\"\"this is also a string\"\"\"\n",
    "typeof(str2)\n"
   ]
  },
  {
   "cell_type": "code",
   "execution_count": 15,
   "id": "b8af0ff0",
   "metadata": {},
   "outputs": [
    {
     "data": {
      "text/plain": [
       "'T': ASCII/Unicode U+0054 (category Lu: Letter, uppercase)"
      ]
     },
     "execution_count": 15,
     "metadata": {},
     "output_type": "execute_result"
    }
   ],
   "source": [
    "😆=15\n",
    "🥶=2.8\n",
    "🥳='c'\n",
    "\n",
    "\n",
    "🥳-😆"
   ]
  },
  {
   "cell_type": "code",
   "execution_count": 19,
   "id": "05dc9140",
   "metadata": {},
   "outputs": [
    {
     "name": "stdout",
     "output_type": "stream",
     "text": [
      "6\n",
      "0.6666666666666666\n",
      "8\n",
      "false\n",
      "true\n"
     ]
    }
   ],
   "source": [
    "a=2\n",
    "b=3\n",
    "println(a*b)\n",
    "println(a/b)\n",
    "println(a^b)\n",
    "println(a>b)\n",
    "println(a!=b)"
   ]
  },
  {
   "cell_type": "code",
   "execution_count": 20,
   "id": "ead6e5e1",
   "metadata": {},
   "outputs": [
    {
     "name": "stdout",
     "output_type": "stream",
     "text": [
      "My name is Abhishek Mazewise\n"
     ]
    }
   ],
   "source": [
    "name=\"Abhishek Mazewise\"\n",
    "println(\"My name is $name\")"
   ]
  },
  {
   "cell_type": "code",
   "execution_count": 22,
   "id": "c980e1d9",
   "metadata": {},
   "outputs": [
    {
     "name": "stdout",
     "output_type": "stream",
     "text": [
      "Abhishek Mazewise\n",
      "Abhishek Mazewise\n"
     ]
    }
   ],
   "source": [
    "first_name=\"Abhishek\"\n",
    "last_name=\"Mazewise\"\n",
    "println(\"$first_name $last_name\")\n",
    "println(first_name*\" \"*last_name)"
   ]
  },
  {
   "cell_type": "code",
   "execution_count": 26,
   "id": "3ec53882",
   "metadata": {},
   "outputs": [
    {
     "data": {
      "text/plain": [
       "Vector{Int64}\u001b[90m (alias for \u001b[39m\u001b[90mArray{Int64, 1}\u001b[39m\u001b[90m)\u001b[39m"
      ]
     },
     "execution_count": 26,
     "metadata": {},
     "output_type": "execute_result"
    }
   ],
   "source": [
    "array1=[1,2,3,4,5]\n",
    "typeof(array1)"
   ]
  },
  {
   "cell_type": "code",
   "execution_count": 24,
   "id": "ac92a231",
   "metadata": {},
   "outputs": [
    {
     "data": {
      "text/plain": [
       "5"
      ]
     },
     "execution_count": 24,
     "metadata": {},
     "output_type": "execute_result"
    }
   ],
   "source": [
    "array1[5]"
   ]
  },
  {
   "cell_type": "code",
   "execution_count": 25,
   "id": "7e273c89",
   "metadata": {},
   "outputs": [
    {
     "data": {
      "text/plain": [
       "5-element Vector{Int64}:\n",
       " 1\n",
       " 2\n",
       " 9\n",
       " 4\n",
       " 5"
      ]
     },
     "execution_count": 25,
     "metadata": {},
     "output_type": "execute_result"
    }
   ],
   "source": [
    "array1[3]=9\n",
    "array1"
   ]
  },
  {
   "cell_type": "code",
   "execution_count": 28,
   "id": "b4210ded",
   "metadata": {},
   "outputs": [
    {
     "data": {
      "text/plain": [
       "NTuple{5, Int64}"
      ]
     },
     "execution_count": 28,
     "metadata": {},
     "output_type": "execute_result"
    }
   ],
   "source": [
    "tuple1=(1,2,3,4,5)\n",
    "typeof(tuple1) # tuple is immutable"
   ]
  },
  {
   "cell_type": "code",
   "execution_count": 30,
   "id": "5ff94348",
   "metadata": {},
   "outputs": [
    {
     "data": {
      "text/plain": [
       "true"
      ]
     },
     "execution_count": 30,
     "metadata": {},
     "output_type": "execute_result"
    }
   ],
   "source": [
    "is_true=(2>3)||(5>2)"
   ]
  },
  {
   "cell_type": "code",
   "execution_count": 35,
   "id": "b09b35ae",
   "metadata": {},
   "outputs": [
    {
     "name": "stdout",
     "output_type": "stream",
     "text": [
      "(\"1\", 2, '3', 4, 5.5)\n",
      "Any[1, 2, \"3\", 4, 5]\n",
      "Tuple{String, Int64, Char, Int64, Float64}\n",
      "Vector{Any}\n"
     ]
    }
   ],
   "source": [
    "tuple1=(\"1\",2,'3',4,5.5)\n",
    "array1=[1,2,\"3\",4,5]\n",
    "\n",
    "println(tuple1)\n",
    "println(array1)\n",
    "\n",
    "println(typeof(tuple1))\n",
    "println(typeof(array1))"
   ]
  },
  {
   "cell_type": "code",
   "execution_count": null,
   "id": "b2720d81",
   "metadata": {},
   "outputs": [],
   "source": []
  }
 ],
 "metadata": {
  "kernelspec": {
   "display_name": "Julia 1.11.1",
   "language": "julia",
   "name": "julia-1.11"
  },
  "language_info": {
   "file_extension": ".jl",
   "mimetype": "application/julia",
   "name": "julia",
   "version": "1.11.1"
  }
 },
 "nbformat": 4,
 "nbformat_minor": 5
}
